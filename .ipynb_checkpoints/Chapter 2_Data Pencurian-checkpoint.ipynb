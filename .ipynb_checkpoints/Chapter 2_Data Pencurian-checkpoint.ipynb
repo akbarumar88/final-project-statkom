{
 "cells": [
  {
   "cell_type": "markdown",
   "metadata": {},
   "source": [
    "# CHAPTER 2 - DATA AND SAMPLING DISTRIBUTION"
   ]
  },
  {
   "cell_type": "code",
   "execution_count": 7,
   "metadata": {},
   "outputs": [],
   "source": [
    "%matplotlib inline\n",
    "\n",
    "from pathlib import Path\n",
    "import pandas as pd\n",
    "import numpy as np\n",
    "from scipy import stats\n",
    "from sklearn.utils import resample\n",
    "\n",
    "import seaborn as sns\n",
    "import matplotlib.pylab as plt\n",
    "\n",
    "DATA = Path('.').resolve() / 'data'"
   ]
  },
  {
   "cell_type": "code",
   "execution_count": 8,
   "metadata": {},
   "outputs": [],
   "source": [
    "PENCURIAN_CSV = DATA / 'Pencurian.csv'\n",
    "pencurian = pd.read_csv(PENCURIAN_CSV)"
   ]
  },
  {
   "cell_type": "code",
   "execution_count": 9,
   "metadata": {},
   "outputs": [
    {
     "data": {
      "image/png": "[encoded data removed]",
      "text/plain": [
       "<Figure size 720x720 with 4 Axes>"
      ]
     },
     "metadata": {
      "needs_background": "light"
     },
     "output_type": "display_data"
    }
   ],
   "source": [
    "#Menghitung beberapa rata-rata :\n",
    "\n",
    "#Mengambil 350 Sampel Data\n",
    "samples = pencurian.sample(n=350)\n",
    "\n",
    "#Rata-rata dari 20 data\n",
    "sample_mean_20 = samples.rolling(20).mean().Pencurian\n",
    "sample_mean_20 = sample_mean_20.dropna()\n",
    "\n",
    "#Rata-rata dari 50 data\n",
    "sample_mean_50 = samples.rolling(50).mean().Pencurian\n",
    "sample_mean_50 = sample_mean_50.dropna()\n",
    "\n",
    "#Rata-rata dari 100 data\n",
    "sample_mean_100 = samples.rolling(100).mean().Pencurian\n",
    "sample_mean_100 = sample_mean_100.dropna()\n",
    "\n",
    "fig = plt.figure(figsize=(10,10))\n",
    "#Distribusi seluruh sampel yang di ambil\n",
    "ax = fig.add_subplot(2,2,1)\n",
    "ax.hist(pencurian.Pencurian,bins=25)\n",
    "plt.title('Seluruh Sampel Data Pencurian')\n",
    "\n",
    "#Distribusi 350 Sampel Data\n",
    "\n",
    "ax = fig.add_subplot(2,2,2)\n",
    "ax.hist(samples.Pencurian,bins=40)\n",
    "plt.title('350 Sampel Data Pencurian')\n",
    "\n",
    "#Distribusi rata-rata dari 20 data di 350 sampel data\n",
    "ax = fig.add_subplot(2,2,3)\n",
    "ax.hist(sample_mean_20,bins=40)\n",
    "plt.title('20 Sampel Data Pencurian')\n",
    "\n",
    "#Distribusi rata-rata dari 50 dan 100 data di 350 sampel data\n",
    "ax = fig.add_subplot(2,2,4)\n",
    "ax.hist(sample_mean_50,bins=40,label='Rata-Rata dari 50')\n",
    "ax.hist(sample_mean_100,bins=40,label='Rata-Rata dari 100')\n",
    "plt.title('Rata-Rata 50 dan 100 dari 350 Sampel Data Pencurian')\n",
    "ax.legend()\n",
    "plt.show()\n",
    "\n",
    "plt.show()"
   ]
  },
  {
   "cell_type": "code",
   "execution_count": 10,
   "metadata": {},
   "outputs": [],
   "source": [
    "i=0\n",
    "curi=pencurian['Pencurian']"
   ]
  },
  {
   "cell_type": "code",
   "execution_count": 11,
   "metadata": {},
   "outputs": [],
   "source": [
    "def mean_while(curi) :\n",
    "    i=0\n",
    "    hasil=0\n",
    "    while i<len(curi):\n",
    "        hasil = hasil + curi[i]\n",
    "        i += 1\n",
    "    hasil = hasil/len(curi)\n",
    "    return hasil"
   ]
  },
  {
   "cell_type": "code",
   "execution_count": 12,
   "metadata": {},
   "outputs": [],
   "source": [
    "def STD(curi):\n",
    "    i=0\n",
    "    varian=0\n",
    "    while i < len(curi):\n",
    "        varian = varian + pow((curi[i]-mean_while(curi)),2)\n",
    "        i += 1\n",
    "    varian = varian/(len(curi)-1)\n",
    "    STD = np.sqrt(varian)\n",
    "    return STD"
   ]
  },
  {
   "cell_type": "code",
   "execution_count": 13,
   "metadata": {},
   "outputs": [],
   "source": [
    "def standardError(curi):\n",
    "    STE = STD(curi) / np.sqrt(len(curi))\n",
    "    return STE"
   ]
  },
  {
   "cell_type": "code",
   "execution_count": 14,
   "metadata": {},
   "outputs": [
    {
     "name": "stdout",
     "output_type": "stream",
     "text": [
      "Standard Deviation Pencurian\t:  76.46760639260867\n",
      "Mean Data Pencurian\t\t:  68.61049723756906\n",
      "Median Data Pencurian\t\t:  38.0\n",
      "Standard Error Data Pencurian\t:  2.841896210457921\n"
     ]
    }
   ],
   "source": [
    "print('Standard Deviation Pencurian\\t: ',STD(curi))\n",
    "print('Mean Data Pencurian\\t\\t: ', mean_while(curi))\n",
    "print('Median Data Pencurian\\t\\t: ',curi.median())\n",
    "print('Standard Error Data Pencurian\\t: ', standardError(curi))"
   ]
  },
  {
   "cell_type": "code",
   "execution_count": 15,
   "metadata": {},
   "outputs": [
    {
     "data": {
      "text/plain": [
       "3"
      ]
     },
     "execution_count": 15,
     "metadata": {},
     "output_type": "execute_result"
    }
   ],
   "source": [
    "bootstrap_100 = np.random.choice(pencurian.Pencurian,size=100,replace=True)\n",
    "bootstrap_250 = np.random.choice(pencurian.Pencurian,size=250,replace=True)\n",
    "bootstrap_450 = np.random.choice(pencurian.Pencurian,size=450,replace=True)\n",
    "arr_bootstraps = [bootstrap_100,bootstrap_250,bootstrap_450]\n",
    "len(arr_bootstraps)"
   ]
  },
  {
   "cell_type": "code",
   "execution_count": 16,
   "metadata": {},
   "outputs": [
    {
     "name": "stdout",
     "output_type": "stream",
     "text": [
      "Bootstrap Stats for 100 examples \n",
      "\n",
      "------------------------------------------------------------------------------\n",
      "\n",
      "Bootstrap STD :  66.49575895947021\n",
      "Bootstrap Mean :  57.03\n",
      "Bootstrap Median:  27.0\n",
      "Boostrap Bias,  11.580497237569062\n",
      "Standard Error: 6.649575895947021\n",
      "\n",
      "------------------------------------------------------------------------------\n",
      "\n",
      "Bootstrap Stats for 250 examples \n",
      "\n",
      "------------------------------------------------------------------------------\n",
      "\n",
      "Bootstrap STD :  78.11923375668076\n",
      "Bootstrap Mean :  62.424\n",
      "Bootstrap Median:  34.5\n",
      "Boostrap Bias,  6.186497237569064\n",
      "Standard Error: 4.940694154764462\n",
      "\n",
      "------------------------------------------------------------------------------\n",
      "\n",
      "Bootstrap Stats for 450 examples \n",
      "\n",
      "------------------------------------------------------------------------------\n",
      "\n",
      "Bootstrap STD :  76.64691989327723\n",
      "Bootstrap Mean :  70.30222222222223\n",
      "Bootstrap Median:  40.0\n",
      "Boostrap Bias,  -1.6917249846531632\n",
      "Standard Error: 3.6131704542398944\n",
      "\n",
      "------------------------------------------------------------------------------\n",
      "\n"
     ]
    }
   ],
   "source": [
    "#Calculating a rolling mean:\n",
    "for i in range(len(arr_bootstraps)):\n",
    "    print('Bootstrap Stats for {} examples \\n'.format(len(arr_bootstraps[i])))\n",
    "    print('------------------------------------------------------------------------------\\n')\n",
    "    print('Bootstrap STD : ',STD(arr_bootstraps[i]))\n",
    "    print('Bootstrap Mean : ',mean_while(arr_bootstraps[i]))\n",
    "    print('Bootstrap Median: ',np.median(arr_bootstraps[i]))\n",
    "    print('Boostrap Bias, ',pencurian.Pencurian.mean() - np.mean(arr_bootstraps[i],axis=0))\n",
    "    print('Standard Error:',standardError(arr_bootstraps[i]))\n",
    "    print('\\n------------------------------------------------------------------------------\\n')"
   ]
  }
 ],
 "metadata": {
  "kernelspec": {
   "display_name": "Python 3",
   "language": "python",
   "name": "python3"
  },
  "language_info": {
   "codemirror_mode": {
    "name": "ipython",
    "version": 3
   },
   "file_extension": ".py",
   "mimetype": "text/x-python",
   "name": "python",
   "nbconvert_exporter": "python",
   "pygments_lexer": "ipython3",
   "version": "3.8.3"
  }
 },
 "nbformat": 4,
 "nbformat_minor": 4
}
